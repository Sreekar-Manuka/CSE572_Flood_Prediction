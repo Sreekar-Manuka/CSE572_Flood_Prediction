{
 "cells": [
  {
   "cell_type": "markdown",
   "metadata": {},
   "source": [
    "# Flood Prediction - Exploratory Data Analysis\n",
    "## Playground Series S4E5\n",
    "\n",
    "This notebook explores the flood prediction dataset to understand:\n",
    "- Data structure and quality\n",
    "- Feature distributions\n",
    "- Correlations and relationships\n",
    "- Target variable characteristics"
   ]
  },
  {
   "cell_type": "code",
   "execution_count": null,
   "metadata": {},
   "outputs": [],
   "source": [
    "# Import libraries\n",
    "import pandas as pd\n",
    "import numpy as np\n",
    "import matplotlib.pyplot as plt\n",
    "import seaborn as sns\n",
    "from pathlib import Path\n",
    "\n",
    "# Set display options\n",
    "pd.set_option('display.max_columns', None)\n",
    "pd.set_option('display.max_rows', 100)\n",
    "\n",
    "# Set plotting style\n",
    "plt.style.use('seaborn-v0_8-darkgrid')\n",
    "sns.set_palette('husl')\n",
    "\n",
    "%matplotlib inline"
   ]
  },
  {
   "cell_type": "markdown",
   "metadata": {},
   "source": [
    "## 1. Load Data"
   ]
  },
  {
   "cell_type": "code",
   "execution_count": null,
   "metadata": {},
   "outputs": [],
   "source": [
    "# Load datasets\n",
    "train = pd.read_csv('../data/train.csv')\n",
    "test = pd.read_csv('../data/test.csv')\n",
    "sample_submission = pd.read_csv('../data/sample_submission.csv')\n",
    "\n",
    "print(f\"Train shape: {train.shape}\")\n",
    "print(f\"Test shape: {test.shape}\")\n",
    "print(f\"Sample submission shape: {sample_submission.shape}\")"
   ]
  },
  {
   "cell_type": "markdown",
   "metadata": {},
   "source": [
    "## 2. Basic Data Inspection"
   ]
  },
  {
   "cell_type": "code",
   "execution_count": null,
   "metadata": {},
   "outputs": [],
   "source": [
    "# Display first few rows\n",
    "train.head()"
   ]
  },
  {
   "cell_type": "code",
   "execution_count": null,
   "metadata": {},
   "outputs": [],
   "source": [
    "# Data types and info\n",
    "train.info()"
   ]
  },
  {
   "cell_type": "code",
   "execution_count": null,
   "metadata": {},
   "outputs": [],
   "source": [
    "# Statistical summary\n",
    "train.describe()"
   ]
  },
  {
   "cell_type": "markdown",
   "metadata": {},
   "source": [
    "## 3. Missing Values Analysis"
   ]
  },
  {
   "cell_type": "code",
   "execution_count": null,
   "metadata": {},
   "outputs": [],
   "source": [
    "# Check for missing values\n",
    "missing_train = train.isnull().sum()\n",
    "missing_test = test.isnull().sum()\n",
    "\n",
    "print(\"Missing values in train:\")\n",
    "print(missing_train[missing_train > 0])\n",
    "print(\"\\nMissing values in test:\")\n",
    "print(missing_test[missing_test > 0])"
   ]
  },
  {
   "cell_type": "markdown",
   "metadata": {},
   "source": [
    "## 4. Target Variable Analysis"
   ]
  },
  {
   "cell_type": "code",
   "execution_count": null,
   "metadata": {},
   "outputs": [],
   "source": [
    "# Target variable statistics\n",
    "print(\"FloodProbability Statistics:\")\n",
    "print(train['FloodProbability'].describe())\n",
    "\n",
    "# Distribution plot\n",
    "fig, axes = plt.subplots(1, 2, figsize=(15, 5))\n",
    "\n",
    "# Histogram\n",
    "axes[0].hist(train['FloodProbability'], bins=50, edgecolor='black')\n",
    "axes[0].set_xlabel('Flood Probability')\n",
    "axes[0].set_ylabel('Frequency')\n",
    "axes[0].set_title('Distribution of Flood Probability')\n",
    "\n",
    "# Box plot\n",
    "axes[1].boxplot(train['FloodProbability'])\n",
    "axes[1].set_ylabel('Flood Probability')\n",
    "axes[1].set_title('Box Plot of Flood Probability')\n",
    "\n",
    "plt.tight_layout()\n",
    "plt.show()"
   ]
  },
  {
   "cell_type": "markdown",
   "metadata": {},
   "source": [
    "## 5. Feature Distributions"
   ]
  },
  {
   "cell_type": "code",
   "execution_count": null,
   "metadata": {},
   "outputs": [],
   "source": [
    "# Get all feature columns (excluding id and target)\n",
    "feature_cols = [col for col in train.columns if col not in ['id', 'FloodProbability']]\n",
    "\n",
    "# Plot distributions\n",
    "n_cols = 4\n",
    "n_rows = (len(feature_cols) + n_cols - 1) // n_cols\n",
    "\n",
    "fig, axes = plt.subplots(n_rows, n_cols, figsize=(20, n_rows * 4))\n",
    "axes = axes.flatten()\n",
    "\n",
    "for idx, col in enumerate(feature_cols):\n",
    "    axes[idx].hist(train[col], bins=30, edgecolor='black', alpha=0.7)\n",
    "    axes[idx].set_title(col)\n",
    "    axes[idx].set_xlabel('Value')\n",
    "    axes[idx].set_ylabel('Frequency')\n",
    "\n",
    "# Hide unused subplots\n",
    "for idx in range(len(feature_cols), len(axes)):\n",
    "    axes[idx].axis('off')\n",
    "\n",
    "plt.tight_layout()\n",
    "plt.show()"
   ]
  },
  {
   "cell_type": "markdown",
   "metadata": {},
   "source": [
    "## 6. Correlation Analysis"
   ]
  },
  {
   "cell_type": "code",
   "execution_count": null,
   "metadata": {},
   "outputs": [],
   "source": [
    "# Correlation matrix\n",
    "correlation_matrix = train[feature_cols + ['FloodProbability']].corr()\n",
    "\n",
    "# Plot heatmap\n",
    "plt.figure(figsize=(16, 14))\n",
    "sns.heatmap(correlation_matrix, annot=True, fmt='.2f', cmap='coolwarm', \n",
    "            center=0, square=True, linewidths=0.5)\n",
    "plt.title('Feature Correlation Heatmap', fontsize=16, pad=20)\n",
    "plt.tight_layout()\n",
    "plt.show()"
   ]
  },
  {
   "cell_type": "code",
   "execution_count": null,
   "metadata": {},
   "outputs": [],
   "source": [
    "# Top correlations with target\n",
    "target_corr = correlation_matrix['FloodProbability'].sort_values(ascending=False)\n",
    "print(\"Top 10 features correlated with FloodProbability:\")\n",
    "print(target_corr.head(11))  # 11 to exclude FloodProbability itself\n",
    "\n",
    "# Visualize\n",
    "plt.figure(figsize=(10, 8))\n",
    "target_corr[1:11].plot(kind='barh')\n",
    "plt.xlabel('Correlation with FloodProbability')\n",
    "plt.title('Top 10 Features by Correlation with Target')\n",
    "plt.tight_layout()\n",
    "plt.show()"
   ]
  },
  {
   "cell_type": "markdown",
   "metadata": {},
   "source": [
    "## 7. Feature Relationships with Target"
   ]
  },
  {
   "cell_type": "code",
   "execution_count": null,
   "metadata": {},
   "outputs": [],
   "source": [
    "# Scatter plots for top correlated features\n",
    "top_features = target_corr[1:7].index.tolist()  # Top 6 features\n",
    "\n",
    "fig, axes = plt.subplots(2, 3, figsize=(18, 12))\n",
    "axes = axes.flatten()\n",
    "\n",
    "for idx, feature in enumerate(top_features):\n",
    "    axes[idx].scatter(train[feature], train['FloodProbability'], alpha=0.3, s=1)\n",
    "    axes[idx].set_xlabel(feature)\n",
    "    axes[idx].set_ylabel('FloodProbability')\n",
    "    axes[idx].set_title(f'{feature} vs FloodProbability')\n",
    "\n",
    "plt.tight_layout()\n",
    "plt.show()"
   ]
  },
  {
   "cell_type": "markdown",
   "metadata": {},
   "source": [
    "## 8. Data Quality Checks"
   ]
  },
  {
   "cell_type": "code",
   "execution_count": null,
   "metadata": {},
   "outputs": [],
   "source": [
    "# Check for duplicates\n",
    "print(f\"Duplicate rows in train: {train.duplicated().sum()}\")\n",
    "print(f\"Duplicate rows in test: {test.duplicated().sum()}\")\n",
    "\n",
    "# Check value ranges\n",
    "print(\"\\nValue ranges for each feature:\")\n",
    "for col in feature_cols:\n",
    "    print(f\"{col}: [{train[col].min()}, {train[col].max()}]\")"
   ]
  },
  {
   "cell_type": "markdown",
   "metadata": {},
   "source": [
    "## 9. Key Insights & Next Steps\n",
    "\n",
    "### Summary:\n",
    "- Dataset size: 1.1M training samples, 745K test samples\n",
    "- 20 input features + 1 target (FloodProbability)\n",
    "- Target is continuous (regression task) with values between 0 and 1\n",
    "\n",
    "### Next Steps:\n",
    "1. Feature engineering (if needed)\n",
    "2. Train baseline models (Linear Regression, Random Forest, XGBoost)\n",
    "3. Hyperparameter tuning\n",
    "4. Model evaluation and selection\n",
    "5. Generate predictions for test set"
   ]
  },
  {
   "cell_type": "code",
   "execution_count": null,
   "metadata": {},
   "outputs": [],
   "source": []
  }
 ],
 "metadata": {
  "kernelspec": {
   "display_name": "Python 3",
   "language": "python",
   "name": "python3"
  },
  "language_info": {
   "codemirror_mode": {
    "name": "ipython",
    "version": 3
   },
   "file_extension": ".py",
   "mimetype": "text/x-python",
   "name": "python",
   "nbconvert_exporter": "python",
   "pygments_lexer": "ipython3",
   "version": "3.12.0"
  }
 },
 "nbformat": 4,
 "nbformat_minor": 4
}
